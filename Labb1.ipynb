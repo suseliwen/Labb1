{
 "cells": [
  {
   "cell_type": "code",
   "execution_count": null,
   "metadata": {},
   "outputs": [],
   "source": [
    "\n",
    "dna_sequences = {} #Ett dictionary för att lagra DNA-sekvenserna (sekvens-ID som nyckel och sekvens som värde).\n",
    "\n",
    "\n",
    "with open(\"dna_raw.txt\", \"r\") as text_file: # Öppnar filen i läsläge (\"r\").\n",
    "    current_sequence_id = None #Variabel som håller koll på sekvens-ID.\n",
    "    current_sequence = \"\" #Variabel som lagrar den aktuella sekvensens innehåll.\n",
    "\n",
    "    for line in text_file: #Läser textfilen, rad för rad. \n",
    "        line = line.strip() #Tar bort eventuella mellanslag eller nya rader.\n",
    "\n",
    "        if line.startswith(\">\"): #Om raden börjar med \">\", är det en sekvens-ID-rad. \n",
    "            if current_sequence_id: #Om det redan finns en pågående sekvens:\n",
    "                dna_sequences[current_sequence_id] = current_sequence #Sparar raden i dictionaryn (ID = key, sekvens = value).\n",
    "            \n",
    "            current_sequence_id = line[1:] #Ta bort \">\"-tecknet för att få sekvens-ID.\n",
    "            current_sequence = \"\" #Nollställer den aktuella sekvensen (för att börja på ny sekvens).\n",
    "        else:\n",
    "            current_sequence += line.lower() #Lägger till raden till den aktuella sekvensen, konverterar texten till gemener.\n",
    "    \n",
    "    if current_sequence_id: #Sparar sista sekvensen efter att loopen är klar.\n",
    "        dna_sequences[current_sequence_id] = current_sequence\n",
    "    \n",
    "\n"
   ]
  },
  {
   "cell_type": "code",
   "execution_count": 3,
   "metadata": {},
   "outputs": [
    {
     "name": "stdout",
     "output_type": "stream",
     "text": [
      "seq1: (Längd: 34) Unika bokstäver: a, c, g, t\n",
      "seq2: (Längd: 24) Unika bokstäver: a, c, g, t\n",
      "seq3: (Längd: 62) Unika bokstäver: a, c, g, n, t\n",
      "seq4: (Längd: 52) Unika bokstäver: a, c, g, t\n"
     ]
    }
   ],
   "source": [
    "for seq_id, sequence in dna_sequences.items():  # Loopar igenom dictionaryn.\n",
    "    sequence_length = len(sequence)  # Beräknar antal tecken i sekvensen.\n",
    "    unique_letters = set(sequence)  # Skapar ett set med unika bokstäver, som används för att identifiera de unika tecknen i varje sekvens. \n",
    "    \n",
    "    print(f\"{seq_id}: (Längd: {sequence_length}) Unika bokstäver: {', '.join(sorted(unique_letters))}\")"
   ]
  }
 ],
 "metadata": {
  "kernelspec": {
   "display_name": "venv",
   "language": "python",
   "name": "python3"
  },
  "language_info": {
   "codemirror_mode": {
    "name": "ipython",
    "version": 3
   },
   "file_extension": ".py",
   "mimetype": "text/x-python",
   "name": "python",
   "nbconvert_exporter": "python",
   "pygments_lexer": "ipython3",
   "version": "3.12.2"
  }
 },
 "nbformat": 4,
 "nbformat_minor": 2
}
